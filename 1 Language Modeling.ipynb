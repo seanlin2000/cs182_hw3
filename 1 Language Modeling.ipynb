{
  "nbformat": 4,
  "nbformat_minor": 0,
  "metadata": {
    "accelerator": "GPU",
    "anaconda-cloud": {},
    "colab": {
      "name": "1 Language Modeling.ipynb",
      "provenance": [],
      "collapsed_sections": [],
      "toc_visible": true
    },
    "kernelspec": {
      "display_name": "cs182_hw3.1",
      "language": "python",
      "name": "cs182_hw3.1"
    },
    "language_info": {
      "codemirror_mode": {
        "name": "ipython",
        "version": 3
      },
      "file_extension": ".py",
      "mimetype": "text/x-python",
      "name": "python",
      "nbconvert_exporter": "python",
      "pygments_lexer": "ipython3",
      "version": "3.8.7"
    },
    "varInspector": {
      "cols": {
        "lenName": 16,
        "lenType": 16,
        "lenVar": 40
      },
      "kernels_config": {
        "python": {
          "delete_cmd_postfix": "",
          "delete_cmd_prefix": "del ",
          "library": "var_list.py",
          "varRefreshCmd": "print(var_dic_list())"
        },
        "r": {
          "delete_cmd_postfix": ") ",
          "delete_cmd_prefix": "rm(",
          "library": "var_list.r",
          "varRefreshCmd": "cat(var_dic_list()) "
        }
      },
      "types_to_exclude": [
        "module",
        "function",
        "builtin_function_or_method",
        "instance",
        "_Feature"
      ],
      "window_display": false
    }
  },
  "cells": [
    {
      "cell_type": "markdown",
      "metadata": {
        "id": "yIqzcT6vyUJI"
      },
      "source": [
        "# Introduction"
      ]
    },
    {
      "cell_type": "markdown",
      "metadata": {
        "id": "eQrUWcSeyUJm"
      },
      "source": [
        "<center><h3>**Welcome to the Language modeling Notebook.**</h3></center>\n",
        "\n",
        "In this assignment, you are going to train a neural network to **generate news headlines**.\n",
        "To reduce computational needs, we have reduced it to headlines about technology, and a handful of Tech giants.\n",
        "In this assignment you will:\n",
        "- Learn to preprocess raw text so it can be fed into an LSTM.\n",
        "- Make use of the LSTM library of Pytorch, to train a Language model to generate headlines\n",
        "- Use your network to generate headlines, and judge which headlines are likely or not\n",
        "\n",
        "\n"
      ]
    },
    {
      "cell_type": "markdown",
      "metadata": {
        "id": "lCAzgVCryUJr"
      },
      "source": [
        "**What is a language model?**\n",
        "\n",
        "Language modeling is the task of assigning a probability to sentences in a language. Besides assigning a probability to each sequence of words, the language models also assigns a probability for the likelihood of a given word (or a sequence of words) to follow a sequence of words.\n",
        "— Page 105, __[Neural Network Methods in Natural Language Processing](https://www.amazon.com/Language-Processing-Synthesis-Lectures-Technologies/dp/1627052984/)__, 2017.\n",
        "\n",
        "In terms of neural network, we are training a neural network to produce probabilities (classification) over a fixed vocabulary of words.\n",
        "Concretely, we are training a neural network to produce:\n",
        "$$ P ( w_{i+1} | w_1, w_2, w_3, ..., w_i), \\forall i \\in (1,n)$$\n",
        "\n",
        "** Why is language modeling important? **\n",
        "\n",
        "Language modeling is a core problem in NLP.\n",
        "\n",
        "Language models can either be used as a stand-alone to produce new text that matches the distribution of text the model is trained on, but can also be used at the front-end of a more sophisticated model to produce better results.\n",
        "\n",
        "Recently for example, the __[BERT](https://arxiv.org/abs/1810.04805)__ paper show-cased that pretraining a large neural network on a language modeling task can help improve state-of-the-art on many NLP tasks. \n",
        "\n",
        "How good can the generation of a Language model be?\n",
        "\n",
        "If you have not seen the post about GPT-2 by OpenAI, you should read some of the samples they generated from their language model __[here](https://blog.openai.com/better-language-models/#sample1)__.\n",
        "Because of computational restrictions, we will not achieve as good text production, but the same algorithm is at the core. They just use more data and compute."
      ]
    },
    {
      "cell_type": "markdown",
      "metadata": {
        "id": "LL29FMhfyUJv"
      },
      "source": [
        "# Library imports"
      ]
    },
    {
      "cell_type": "markdown",
      "metadata": {
        "id": "5OXaa4g1yUJx"
      },
      "source": [
        "Before starting, make sure you have all these libraries."
      ]
    },
    {
      "cell_type": "code",
      "metadata": {
        "colab": {
          "base_uri": "https://localhost:8080/"
        },
        "id": "g81IeWKxyYO-",
        "outputId": "8598764f-c7cc-486c-b4cb-6c45eed807df"
      },
      "source": [
        "!pip install segtok"
      ],
      "execution_count": 1,
      "outputs": [
        {
          "output_type": "stream",
          "text": [
            "Collecting segtok\n",
            "  Downloading https://files.pythonhosted.org/packages/41/08/582dab5f4b1d5ca23bc6927b4bb977c8ff7f3a87a3b98844ef833e2f5623/segtok-1.5.10.tar.gz\n",
            "Requirement already satisfied: regex in /usr/local/lib/python3.7/dist-packages (from segtok) (2019.12.20)\n",
            "Building wheels for collected packages: segtok\n",
            "  Building wheel for segtok (setup.py) ... \u001b[?25l\u001b[?25hdone\n",
            "  Created wheel for segtok: filename=segtok-1.5.10-cp37-none-any.whl size=25019 sha256=bb356f897c938cd3d3d3be7a340085d7287bda4d035abad351f3ed48141b1021\n",
            "  Stored in directory: /root/.cache/pip/wheels/b4/39/f6/9ca1c5cabde964d728023b5751c3a206a5c8cc40252321fb6b\n",
            "Successfully built segtok\n",
            "Installing collected packages: segtok\n",
            "Successfully installed segtok-1.5.10\n"
          ],
          "name": "stdout"
        }
      ]
    },
    {
      "cell_type": "markdown",
      "metadata": {
        "id": "ERFoOcbL-TkP"
      },
      "source": [
        "Run the first of the following two cells if you are running the homework locally, and run the second cell if you are running the homework in Colab"
      ]
    },
    {
      "cell_type": "code",
      "metadata": {
        "id": "MjFEVKFQ-TkQ"
      },
      "source": [
        "DRIVE=False\n",
        "root_folder = \"\"\n",
        "dataset_folder = \"dataset/\""
      ],
      "execution_count": null,
      "outputs": []
    },
    {
      "cell_type": "code",
      "metadata": {
        "colab": {
          "base_uri": "https://localhost:8080/"
        },
        "id": "se7xdZD7y-CL",
        "outputId": "16d8cc4f-21af-4964-d27a-08fdd212ace0"
      },
      "source": [
        "from google.colab import drive\n",
        "drive.mount('/content/drive')\n",
        "root_folder = \"/content/drive/My Drive/cs182_hw3/\"\n",
        "dataset_folder = \"/content/drive/My Drive/cs182_hw3_public/dataset/\""
      ],
      "execution_count": 2,
      "outputs": [
        {
          "output_type": "stream",
          "text": [
            "Mounted at /content/drive\n"
          ],
          "name": "stdout"
        }
      ]
    },
    {
      "cell_type": "markdown",
      "metadata": {
        "id": "UQt9E5gm-TkR"
      },
      "source": [
        "\n",
        "\n",
        "\n"
      ]
    },
    {
      "cell_type": "code",
      "metadata": {
        "id": "N1twBPSLyUJz"
      },
      "source": [
        "%load_ext autoreload\n",
        "%autoreload 2"
      ],
      "execution_count": 3,
      "outputs": []
    },
    {
      "cell_type": "code",
      "metadata": {
        "id": "pPLGvVwByUJ3"
      },
      "source": [
        "import os\n",
        "import sys\n",
        "sys.path.append(root_folder)\n",
        "\n",
        "from segtok import tokenizer\n",
        "from collections import Counter\n",
        "import torch as th\n",
        "from torch import nn\n",
        "import torch.nn.functional as F\n",
        "import torch.optim as optim\n",
        "\n",
        "import numpy as np\n",
        "import json\n",
        "from utils import validate_to_array"
      ],
      "execution_count": 4,
      "outputs": []
    },
    {
      "cell_type": "markdown",
      "metadata": {
        "id": "OQTfdCRdyUJ8"
      },
      "source": [
        "# Loading the datasets"
      ]
    },
    {
      "cell_type": "markdown",
      "metadata": {
        "id": "3dNGkjKmyUJ9"
      },
      "source": [
        "Make sure the dataset files are all in the `dataset` folder of the assignment.\n",
        "\n",
        " - If you are using this notebook locally: You should run the `download_data.sh` script.\n",
        " - If you are using the Colab version of the notebook, make sure that your Google Drive is mounted, and you verify from the file explorer in Colab that the files are viewable within `/content/drive/cs182_hw3_public/dataset/`\n",
        " \n"
      ]
    },
    {
      "cell_type": "code",
      "metadata": {
        "colab": {
          "base_uri": "https://localhost:8080/"
        },
        "id": "iLaRmt5uyUJ_",
        "outputId": "51017fe4-273c-4629-aa63-55ca12bbb5f7"
      },
      "source": [
        "# This cell loads the data for the model\n",
        "# Run this before working on loading any of the additional data\n",
        "\n",
        "with open(dataset_folder+\"headline_generation_dataset_processed.json\", \"r\") as f:\n",
        "    d_released = json.load(f)\n",
        "\n",
        "with open(dataset_folder+\"headline_generation_vocabulary.txt\", \"r\",encoding='utf8') as f:\n",
        "    vocabulary = f.read().split(\"\\n\")\n",
        "w2i = {w: i for i, w in enumerate(vocabulary)} # Word to index\n",
        "i2w = {i: w for i, w in enumerate(vocabulary)} # Index to word\n",
        "unkI, padI, startI = w2i['UNK'], w2i['PAD'], w2i['<START>']\n",
        "\n",
        "vocab_size = len(vocabulary)\n",
        "input_length = len(d_released[0]['numerized']) # The length of the first element in the dataset, they are all of the same length\n",
        "d_train = [d for d in d_released if d['cut'] == 'training']\n",
        "d_valid = [d for d in d_released if d['cut'] == 'validation']\n",
        "\n",
        "print(\"Number of training samples:\",len(d_train))\n",
        "print(\"Number of validation samples:\",len(d_valid))"
      ],
      "execution_count": 5,
      "outputs": [
        {
          "output_type": "stream",
          "text": [
            "Number of training samples: 88568\n",
            "Number of validation samples: 946\n"
          ],
          "name": "stdout"
        }
      ]
    },
    {
      "cell_type": "markdown",
      "metadata": {
        "id": "u31F-vXqyUKB"
      },
      "source": [
        "Now that we have loaded the data, let's inspect one of the elements. Each sample in our dataset has a `numerized` vector, that contains the preprocessed headline. This vector is what we will feed in to the neural network. The field `numerized` corresponds to this list of tokens. The already loaded dictionary `vocabulary` maps token lists to the actual string. Use these elements to recover `title` key of entry 1001 in the training dataset.\n",
        "\n",
        "**TODO**: Write the numerized2text function in notebook_utils and inspect element 1001 in the training dataset (`entry = d_train[1001]`).\n",
        "\n"
      ]
    },
    {
      "cell_type": "code",
      "metadata": {
        "id": "GqsHaZNbyUKD"
      },
      "source": [
        "def numerize_sequence(tokenized):\n",
        "    return [w2i.get(w, unkI) for w in tokenized]\n",
        "def pad_sequence(numerized, pad_index, to_length):\n",
        "    pad = numerized[:to_length]\n",
        "    padded = pad + [pad_index] * (to_length - len(pad))\n",
        "    mask = [w != pad_index for w in padded]\n",
        "    return padded, mask"
      ],
      "execution_count": 6,
      "outputs": []
    },
    {
      "cell_type": "code",
      "metadata": {
        "colab": {
          "base_uri": "https://localhost:8080/"
        },
        "id": "C23VMn5DyUKF",
        "outputId": "d907cd51-f13e-44bc-8330-f9d26547a140"
      },
      "source": [
        "def numerized2text(numerized):\n",
        "    \"\"\" Converts an integer sequence in the vocabulary into a string corresponding to the title.\n",
        "    \n",
        "        Arguments:\n",
        "            numerized: List[int]  -- The list of vocabulary indices corresponding to the string\n",
        "        Returns:\n",
        "            title: str -- The string corresponding to the numerized input, without padding.\n",
        "    \"\"\"\n",
        "    #####\n",
        "    # BEGIN YOUR CODE HERE \n",
        "    # Recover each word from the vocabulary in the list of indices in numerized, using the vocabulary variable\n",
        "    # Hint 1: Use the string.join() function to reconstruct a single string\n",
        "    # Hint 2: The objects and/or functions defined in above cells may be useful.\n",
        "    #####\n",
        "    words = [i2w.get(n) for n in numerized]\n",
        "    if \"PAD\" in words:\n",
        "      pad_index = words.index(\"PAD\")\n",
        "      words = words[:pad_index]\n",
        "    converted_string = \" \".join(words)\n",
        "    #####\n",
        "    # END YOUR CODE HERE\n",
        "    #####\n",
        "    \n",
        "    return converted_string\n",
        "\n",
        "entry = d_train[1001]\n",
        "print(\"Reversing the numerized: \"+numerized2text(entry['numerized']))\n",
        "validate_to_array(numerized2text,(entry['numerized'],),'numerized2text',root_folder)\n",
        "print(\"From the `title` entry: \"+ entry['title'])"
      ],
      "execution_count": 70,
      "outputs": [
        {
          "output_type": "stream",
          "text": [
            "Reversing the numerized: microsoft donates cloud computing ' worth $ 1 bn '\n",
            "From the `title` entry: Microsoft donates cloud computing 'worth $1 bn'\n"
          ],
          "name": "stdout"
        }
      ]
    },
    {
      "cell_type": "markdown",
      "metadata": {
        "id": "ZrpgWj1FyUKH"
      },
      "source": [
        "In language modeling, we train a model to produce the next word in the sequence given all previously generated words. This has, in practice, two steps:\n",
        "\n",
        "\n",
        "    1. Adding a special <START> token to the start of the sequence for the input. This \"shifts\" the input to the right by one. We call this the \"source\" sequence\n",
        "    2. Making the network predict the original, unshifted version (we call this the \"target\" sequence)\n",
        "\n",
        "    \n",
        "Let's take an example. Say we want to train the network on the sentence: \"The cat is great.\"\n",
        "The input to the network will be \"`<START>` The cat is great.\" The target will be: \"The cat is great\".\n",
        "    \n",
        "Therefore the first prediction is to select the word \"The\" given the `<START>` token.\n",
        "The second prediction is to produce the word \"cat\" given the two tokens \"`<START>` The\".\n",
        "At each step, the network learns to predict the next word, given all previous ones.\n",
        "    \n",
        "---"
      ]
    },
    {
      "cell_type": "markdown",
      "metadata": {
        "id": "HO2ww8XPyUKK"
      },
      "source": [
        "Your next step is to write the build_batch function. Given a dataset, we select a random subset of samples, and will build the \"inputs\" and the \"targets\" of the batch, following the procedure we've described.\n",
        "\n",
        "**TODO**: write the build_batch function. We give you the structure, and you have to fill in where we have left things `your_code`.\n"
      ]
    },
    {
      "cell_type": "code",
      "metadata": {
        "id": "Kl0f7hKKyUKL"
      },
      "source": [
        "def build_batch(dataset, indices):\n",
        "    \"\"\" Builds a batch of source and target elements from the dataset.\n",
        "    \n",
        "        Arguments:\n",
        "            dataset: List[db_element] -- A list of dataset elements\n",
        "            indices: List[int] -- A list of indices of the dataset to sample\n",
        "        Returns:\n",
        "            batch_input: List[List[int]] -- List of source sequences\n",
        "            batch_target: List[List[int]] -- List of target sequences\n",
        "            batch_target_mask: List[List[int]] -- List of target batch masks\n",
        "    \"\"\"\n",
        "    #####\n",
        "    # BEGIN YOUR CODE HERE \n",
        "    #####\n",
        "    \n",
        "    \n",
        "    # We get a list of indices we will choose from the dataset.\n",
        "    # indices = range(iteration*batch_size,(iteration+1)*batch_size)\n",
        "    \n",
        "    # Recover what the entries for the batch are\n",
        "    batch = [dataset[i] for i in indices]\n",
        "    \n",
        "    # Get the raw numerized for this input, each element of the dataset has a 'numerized' key\n",
        "    batch_numerized = np.array([sample['numerized'] for sample in batch])\n",
        "    # Create an array of startI that will be concatenated at position 1 for the input.\n",
        "    # Should be of shape (batch_size, 1)\n",
        "    start_tokens = np.array([startI] * len(batch))\n",
        "    start_tokens = start_tokens.reshape((-1, 1))\n",
        "\n",
        "    # Concatenate the start_tokens with the rest of the input\n",
        "    # The np.concatenate function should be useful\n",
        "    # The output should now be [batch_size, sequence_length+1]\n",
        "    batch_input = np.concatenate((start_tokens, batch_numerized), axis=1)\n",
        "    # Remove the last word from each element in the batch\n",
        "    # To restore the [batch_size, sequence_length] size\n",
        "    batch_input = batch_input[:,:-1]\n",
        "    \n",
        "    # The target should be the un-shifted numerized input\n",
        "    batch_target = batch_numerized\n",
        "\n",
        "    # The target-mask is a 0 or 1 filter to note which tokens are\n",
        "    # padding or not, to give the loss, so the model doesn't get rewarded for\n",
        "    # predicting PAD tokens.\n",
        "    batch_target_mask = np.array([a['mask'] for a in batch])\n",
        "    #####\n",
        "    # END YOUR CODE HERE \n",
        "    #####\n",
        "        \n",
        "    return batch_input, batch_target, batch_target_mask\n",
        "validate_to_array(build_batch,(d_train, range(100)),'build_batch',root_folder)"
      ],
      "execution_count": 8,
      "outputs": []
    },
    {
      "cell_type": "markdown",
      "metadata": {
        "id": "fBbG3vC5yUKN"
      },
      "source": [
        "# Creating the language model"
      ]
    },
    {
      "cell_type": "markdown",
      "metadata": {
        "id": "b3Eg8rHGyUKP"
      },
      "source": [
        "Now that we've written the data pipelining, we are ready to write the Neural network.\n",
        "\n",
        "The steps to setting up a neural network to do Language modeling are:\n",
        "- Creating the placeholders for the model, where we can feed in our inputs and targets.\n",
        "- Creating an RNN of our choice, size, and with optional parameters\n",
        "- Using the RNN on our placeholder inputs.\n",
        "- Getting the output from the RNN, and projecting it into a vocabulary sized dimension, so that we can make word predictions.\n",
        "- Setting up the loss on the outputs so that the network learns to produce the correct words.\n",
        "- Finally, choosing an optimizer, and defining a training operation: using the optimizer to minimize the loss.\n",
        "\n",
        "We provide skeleton code for the model, you can fill in the `your_code` section. If you are unfamiliar with Pytorch, we provide some idea of what functions to look for, you should use the Pytorch online documentation.\n",
        "\n",
        "**TODO**: Fill in the LanguageModel in the language_model file.\n"
      ]
    },
    {
      "cell_type": "code",
      "metadata": {
        "id": "rKJ2D23GyUKR"
      },
      "source": [
        "from language_model import LanguageModel"
      ],
      "execution_count": 9,
      "outputs": []
    },
    {
      "cell_type": "markdown",
      "metadata": {
        "id": "qz7ixZGKyUKT"
      },
      "source": [
        "# Training the model"
      ]
    },
    {
      "cell_type": "markdown",
      "metadata": {
        "id": "9sDUBkpnyUKU"
      },
      "source": [
        "Your objective is to train the Language on the dataset you are provided to reach a **validation loss <= 5.50**\n",
        "\n",
        "**TODO**: Train your model so that it achieves a validation loss of <= 5.5. \n",
        "\n",
        "**Careful**: we will be testing this loss on an unreleased test set, so make sure to evaluate properly on a validation set and not overfit. You must save the model you want us to test under: models/final_language_model (the .index, .meta and .data files)\n",
        "\n",
        "**Advice**:\n",
        "- It should be possible to attain loss <= 5.50 with a 1-layer LSTM of size 256 or less.\n",
        "- You should not need more than 10 epochs to attain the threshold. More passes over the data can however give you a better model.\n",
        "- You can however try using:\n",
        "    - LSTM dropout (Pytorch has a layer for that)\n",
        "    - Multi-layer RNN cell (Pytorch has a layer for that)\n",
        "    - Change your optimizers, tune your learning_rate, use a learning rate schedule.\n",
        "    \n",
        "**Extra credit**:\n",
        "\n",
        "Get the loss below **validation loss <= 5.00** and get 5 points of extra-credit on this assignment. Get creative,\n",
        "\n",
        "but remember, what you do should work on our held-out test set to get the points."
      ]
    },
    {
      "cell_type": "code",
      "metadata": {
        "colab": {
          "base_uri": "https://localhost:8080/"
        },
        "id": "b01AZj0RyUKW",
        "outputId": "4f36e160-4902-4838-e77e-db58bd8940f6"
      },
      "source": [
        "# We can create our model,\n",
        "# with parameters of our choosing.\n",
        "hidden_size = 256\n",
        "num_layers = 1\n",
        "dropout = .5\n",
        "\n",
        "# Setup the loss using cross-entropy loss.\n",
        "# The logits are the output_logits we've computed,\n",
        "# look at the pytorch docs for `CrossEntropyLoss` and `permute`\n",
        "# to align the axes correctly and to account for the masking properly.\n",
        "# The targets are the goal labels we are trying to match.\n",
        "# Note that if you directly take the mean of the loss tensor,\n",
        "# it will underestimate your loss! (why would that be?)\n",
        "# Lastly, there are a few valid forms of averaging token losses,\n",
        "# here we will take the mean of all non-mask tokens together.\n",
        "criterion = nn.CrossEntropyLoss(reduction='none')\n",
        "def loss_fn(pred, target, mask):\n",
        "    pred = pred.permute(0,2,1)  # put the class probabilities in the middle\n",
        "    loss_tensor = criterion(pred, target)\n",
        "    loss_masked = th.mul(loss_tensor, mask)\n",
        "    loss_per_sample = loss_masked.sum() / mask.sum()\n",
        "    return loss_per_sample\n",
        "\n",
        "# The build_batch function outputs numpy, but our model is built in pytorch,\n",
        "# so you need to convert numpy to pytorch.\n",
        "# You also have to cast the masks into float32, target into long, and input into long.\n",
        "# Look at the `float` and `long` function.\n",
        "batch_to_torch = lambda b_in,b_target,b_mask: (th.LongTensor(b_in),\n",
        "                                               th.LongTensor(b_target), \n",
        "                                               th.FloatTensor(b_mask))\n",
        "\n",
        "\n",
        "# Look at the docs for torch.optim and pick an optimizer\n",
        "# And provide it with a start learning rate.\n",
        "optimizer_class = optim.Adam\n",
        "lr = 1e-4\n",
        "epochs = 20\n",
        "batch_size = 128\n",
        "\n",
        "model_id = 'test1'\n",
        "os.makedirs(root_folder+'models/part1/',exist_ok=True)\n",
        "\n",
        "device = th.device(\"cuda\" if th.cuda.is_available() else \"cpu\")\n",
        "print(device)\n",
        "list_to_device = lambda th_obj: [tensor.to(device) for tensor in th_obj]"
      ],
      "execution_count": 76,
      "outputs": [
        {
          "output_type": "stream",
          "text": [
            "cuda\n"
          ],
          "name": "stdout"
        }
      ]
    },
    {
      "cell_type": "code",
      "metadata": {
        "id": "fjIAKqbvg9ER",
        "colab": {
          "base_uri": "https://localhost:8080/"
        },
        "outputId": "e4b4c672-b90c-4e84-f9fe-2748a1553bcd"
      },
      "source": [
        "model = LanguageModel(vocab_size=vocab_size, rnn_size=hidden_size, num_layers=num_layers, dropout=dropout)\n",
        "optimizer = optimizer_class(model.parameters(), lr=lr)"
      ],
      "execution_count": 87,
      "outputs": [
        {
          "output_type": "stream",
          "text": [
            "/usr/local/lib/python3.7/dist-packages/torch/nn/modules/rnn.py:63: UserWarning: dropout option adds dropout after all but last recurrent layer, so non-zero dropout expects num_layers greater than 1, but got dropout=0.5 and num_layers=1\n",
            "  \"num_layers={}\".format(dropout, num_layers))\n"
          ],
          "name": "stderr"
        }
      ]
    },
    {
      "cell_type": "code",
      "metadata": {
        "colab": {
          "base_uri": "https://localhost:8080/"
        },
        "id": "sVDHLiOmyUKX",
        "scrolled": false,
        "outputId": "12817e2c-214d-4202-9446-cf3ab5339e4d"
      },
      "source": [
        "# Skeleton code\n",
        "# You have to write your own training process to obtain a\n",
        "# Good performing model on the validation set, and save it.\n",
        "\n",
        "model.train()\n",
        "losses = []\n",
        "accuracies = []\n",
        "from tqdm import tqdm\n",
        "for epoch in range(epochs):\n",
        "    indices = np.random.permutation(range(len(d_train)))\n",
        "    t = tqdm(range(0,(len(d_train)//batch_size)+1))\n",
        "    for i in t:\n",
        "        # Here is how you obtain a batch:\n",
        "        batch = build_batch(d_train, indices[i*batch_size:(i+1)*batch_size])\n",
        "        (batch_input, batch_target, batch_target_mask) = batch_to_torch(*batch)\n",
        "        (batch_input, batch_target, batch_target_mask) = list_to_device((batch_input, batch_target, batch_target_mask))\n",
        "        model.to(device)\n",
        "        \n",
        "        prediction = model.forward(batch_input)\n",
        "        loss = loss_fn(prediction, batch_target, batch_target_mask)\n",
        "        losses.append(loss.item())\n",
        "        accuracy = (th.eq(prediction.argmax(dim=2,keepdim=False),batch_target).float()*batch_target_mask).sum()/batch_target_mask.sum()\n",
        "        accuracies.append(accuracy.item())\n",
        "\n",
        "        optimizer.zero_grad()\n",
        "        loss.backward()\n",
        "        optimizer.step()\n",
        "        if i % 10 == 0:\n",
        "            t.set_description(f\"Epoch: {epoch} Iteration: {i} Loss: {np.mean(losses[-10:])} Accuracy: {np.mean(accuracies[-10:])}\")\n",
        "    # save your latest model\n",
        "    save_dict = dict(\n",
        "        kwargs = dict(\n",
        "            vocab_size=vocab_size,\n",
        "            rnn_size=hidden_size,\n",
        "            num_layers=num_layers,\n",
        "            dropout=dropout\n",
        "        ),\n",
        "        model_state_dict = model.state_dict(),\n",
        "        notes = \"\",\n",
        "        optimizer_class = optimizer_class,\n",
        "        lr = lr,\n",
        "        epochs = epochs,\n",
        "        batch_size = batch_size,\n",
        "    )\n",
        "    th.save(save_dict,root_folder+f'models/part1/model_{model_id}.pt')"
      ],
      "execution_count": 95,
      "outputs": [
        {
          "output_type": "stream",
          "text": [
            "Epoch: 0 Iteration: 690 Loss: 5.106510925292969 Accuracy: 0.17083151638507843: 100%|██████████| 692/692 [00:17<00:00, 38.47it/s]\n",
            "Epoch: 1 Iteration: 690 Loss: 5.1345030784606935 Accuracy: 0.17368502169847488: 100%|██████████| 692/692 [00:18<00:00, 37.91it/s]\n",
            "Epoch: 2 Iteration: 690 Loss: 5.114482879638672 Accuracy: 0.1720510795712471: 100%|██████████| 692/692 [00:18<00:00, 37.81it/s]\n",
            "Epoch: 3 Iteration: 690 Loss: 5.126867866516113 Accuracy: 0.16970811635255814: 100%|██████████| 692/692 [00:17<00:00, 38.46it/s]\n",
            "Epoch: 4 Iteration: 690 Loss: 5.141033792495728 Accuracy: 0.17163413316011428: 100%|██████████| 692/692 [00:17<00:00, 38.60it/s]\n",
            "Epoch: 5 Iteration: 690 Loss: 5.125402212142944 Accuracy: 0.17187462896108627: 100%|██████████| 692/692 [00:18<00:00, 38.34it/s]\n",
            "Epoch: 6 Iteration: 690 Loss: 5.1453639507293705 Accuracy: 0.16728989481925965: 100%|██████████| 692/692 [00:18<00:00, 38.18it/s]\n",
            "Epoch: 7 Iteration: 690 Loss: 5.129109573364258 Accuracy: 0.1654505431652069: 100%|██████████| 692/692 [00:18<00:00, 38.27it/s]\n",
            "Epoch: 8 Iteration: 690 Loss: 5.129153776168823 Accuracy: 0.17443142533302308: 100%|██████████| 692/692 [00:18<00:00, 38.26it/s]\n",
            "Epoch: 9 Iteration: 690 Loss: 5.1152167320251465 Accuracy: 0.17393718510866166: 100%|██████████| 692/692 [00:18<00:00, 38.40it/s]\n",
            "Epoch: 10 Iteration: 690 Loss: 5.118323802947998 Accuracy: 0.17568627148866653: 100%|██████████| 692/692 [00:18<00:00, 38.34it/s]\n",
            "Epoch: 11 Iteration: 690 Loss: 5.104025983810425 Accuracy: 0.17339881956577302: 100%|██████████| 692/692 [00:18<00:00, 38.28it/s]\n",
            "Epoch: 12 Iteration: 690 Loss: 5.109261560440063 Accuracy: 0.17422888278961182: 100%|██████████| 692/692 [00:18<00:00, 38.26it/s]\n",
            "Epoch: 13 Iteration: 690 Loss: 5.128510236740112 Accuracy: 0.1728887990117073: 100%|██████████| 692/692 [00:18<00:00, 38.26it/s]\n",
            "Epoch: 14 Iteration: 690 Loss: 5.147280931472778 Accuracy: 0.16573590636253357: 100%|██████████| 692/692 [00:18<00:00, 38.24it/s]\n",
            "Epoch: 15 Iteration: 690 Loss: 5.149774360656738 Accuracy: 0.16795447915792466: 100%|██████████| 692/692 [00:18<00:00, 38.28it/s]\n",
            "Epoch: 16 Iteration: 690 Loss: 5.120062065124512 Accuracy: 0.17283089607954025: 100%|██████████| 692/692 [00:18<00:00, 38.37it/s]\n",
            "Epoch: 17 Iteration: 690 Loss: 5.151573228836059 Accuracy: 0.16812564730644225: 100%|██████████| 692/692 [00:18<00:00, 38.29it/s]\n",
            "Epoch: 18 Iteration: 690 Loss: 5.168831443786621 Accuracy: 0.16524012088775636: 100%|██████████| 692/692 [00:18<00:00, 38.30it/s]\n",
            "Epoch: 19 Iteration: 690 Loss: 5.169832754135132 Accuracy: 0.17533438503742219: 100%|██████████| 692/692 [00:18<00:00, 38.28it/s]\n"
          ],
          "name": "stderr"
        }
      ]
    },
    {
      "cell_type": "markdown",
      "metadata": {
        "id": "fhaj6XIdyUKZ"
      },
      "source": [
        "# Using the language model"
      ]
    },
    {
      "cell_type": "markdown",
      "metadata": {
        "id": "9lgsKMqmyUKa"
      },
      "source": [
        "Congratulations, you have now trained a language model! We can now use it to evaluate likely news headlines, as well as generate our very own headlines.\n",
        "\n",
        "**TODO**: Complete the three parts below, using the model you have trained."
      ]
    },
    {
      "cell_type": "markdown",
      "metadata": {
        "id": "EnR8ma3cyUKb"
      },
      "source": [
        "## (1) Evaluation loss\n",
        "\n",
        "To evaluate the language model, we evaluate its loss (ability to predict) on unseen data that is reserved for evaluation.\n",
        "Your first evaluation is to load the model you trained, and obtain a test loss. If you are running this validation and not training, run the setup cell above the training loop first."
      ]
    },
    {
      "cell_type": "code",
      "metadata": {
        "colab": {
          "base_uri": "https://localhost:8080/"
        },
        "id": "zkL164RCyUKc",
        "outputId": "8b0d144b-f6c0-440a-b041-22dfde64c24e"
      },
      "source": [
        "model_id = \"test1\"\n",
        "save_dict = th.load(root_folder+'models/part1/'+f\"model_{model_id}.pt\",map_location='cpu')\n",
        "model = LanguageModel(**save_dict['kwargs'])\n",
        "model.load_state_dict(save_dict['model_state_dict'])\n",
        "model.eval()"
      ],
      "execution_count": 96,
      "outputs": [
        {
          "output_type": "stream",
          "text": [
            "/usr/local/lib/python3.7/dist-packages/torch/nn/modules/rnn.py:63: UserWarning: dropout option adds dropout after all but last recurrent layer, so non-zero dropout expects num_layers greater than 1, but got dropout=0.5 and num_layers=1\n",
            "  \"num_layers={}\".format(dropout, num_layers))\n"
          ],
          "name": "stderr"
        },
        {
          "output_type": "execute_result",
          "data": {
            "text/plain": [
              "LanguageModel(\n",
              "  (embedding): Embedding(10000, 256)\n",
              "  (lstm): LSTM(256, 256, batch_first=True, dropout=0.5)\n",
              "  (output): Linear(in_features=256, out_features=10000, bias=True)\n",
              ")"
            ]
          },
          "metadata": {
            "tags": []
          },
          "execution_count": 96
        }
      ]
    },
    {
      "cell_type": "code",
      "metadata": {
        "colab": {
          "base_uri": "https://localhost:8080/"
        },
        "id": "o0B71owvyUKe",
        "outputId": "ac897b0f-77d0-4973-b89b-9bf7deb349b9"
      },
      "source": [
        "# We will evaluate your model in the best_models folder\n",
        "# In a very similar way as the code below.\n",
        "# Make sure your validation loss is below the threshold we specified\n",
        "# and that you didn't train using the validation set\n",
        "\n",
        "batch = build_batch(d_valid, range(len(d_valid)))\n",
        "(batch_input, batch_target, batch_target_mask) = batch_to_torch(*batch)\n",
        "prediction = model(batch_input.long())\n",
        "loss = loss_fn(prediction, batch_target, batch_target_mask)\n",
        "print(\"Evaluation set loss:\", loss.item())"
      ],
      "execution_count": 97,
      "outputs": [
        {
          "output_type": "stream",
          "text": [
            "Evaluation set loss: 5.4604620933532715\n"
          ],
          "name": "stdout"
        }
      ]
    },
    {
      "cell_type": "code",
      "metadata": {
        "id": "2W-FFdHoyUKg"
      },
      "source": [
        "# Your best performing model should go here.\n",
        "os.makedirs(root_folder+\"best_models\",exist_ok=True)\n",
        "best_model_file = root_folder+\"best_models/part1_best_model.pt\"\n",
        "th.save(save_dict,best_model_file)"
      ],
      "execution_count": 98,
      "outputs": []
    },
    {
      "cell_type": "markdown",
      "metadata": {
        "id": "-oP9wBwfyUKj"
      },
      "source": [
        "## (2) Evaluation of likelihood of data\n",
        "\n",
        "One use of a language model is to see what data is more likely to have originated from the training data. Because we have trained our model on news headlines, we can see which of these headlines is more likely:\n",
        "\n",
        "``Apple to release another iPhone in September``\n",
        "\n",
        "\n",
        " ``Apple and Samsung resolve all lawsuits amicably``\n",
        " \n",
        "**TODO**: Use the model to obtain the loss the neural network assigns to each sentence.\n",
        "Because the neural network assigns probability to the words appearing in a sequence, this loss can be used as a proxy to measure how likely the sentence is to have occurred in the dataset.\n",
        "Once you have the loss for each headline, write down which sentence was judged to be more likely, and explain why/if you think this is coherent.\n",
        "\n",
        "**Your answer:**\n"
      ]
    },
    {
      "cell_type": "code",
      "metadata": {
        "id": "CH-YlqE2yUKk"
      },
      "source": [
        "def raw_sample_pred(headline, model):\n",
        "    #####\n",
        "    # BEGIN YOUR CODE HERE \n",
        "    #####\n",
        "    # From the code in the Preprocessing section at the end of the notebook\n",
        "    # Find out how to tokenize the headline\n",
        "    tokenized = tokenizer.word_tokenizer(headline.lower())\n",
        "\n",
        "    # Find out how to numerize the tokenized headline\n",
        "    numerized = numerize_sequence(tokenized)\n",
        "\n",
        "    # Learn how to pad and obtain the mask of the sequence.\n",
        "    padded, mask = pad_sequence(numerized, padI, input_length)\n",
        "\n",
        "    # Obtain the predicted headline and target headline\n",
        "    input_headline = [startI] + padded\n",
        "    input_headline = th.LongTensor(input_headline[:-1])\n",
        "    input_headline = th.reshape(input_headline, (1, -1))\n",
        "    pred_headline = model.forward(input_headline)\n",
        "    target_headline = th.LongTensor(padded)\n",
        "    target_headline = th.reshape(target_headline, (1, -1))\n",
        "    mask = th.FloatTensor(mask)\n",
        "    mask = th.reshape(mask, (1, -1))\n",
        "\n",
        "    #####\n",
        "    # END YOUR CODE HERE \n",
        "    #####\n",
        "\n",
        "    return pred_headline,target_headline,mask"
      ],
      "execution_count": 99,
      "outputs": []
    },
    {
      "cell_type": "code",
      "metadata": {
        "colab": {
          "base_uri": "https://localhost:8080/"
        },
        "id": "LexHAsuiyUKm",
        "outputId": "1d9e836f-ef80-477d-c90d-c49ddcf7c8cc"
      },
      "source": [
        "model.eval()\n",
        "\n",
        "headline1 = \"Apple to release new iPhone in July\"\n",
        "headline2 = \"Apple and Samsung resolve all lawsuits\"\n",
        "\n",
        "headlines = [headline1.lower(), headline2.lower()] # Our LSTM is trained on lower-cased headlines\n",
        "for headline in headlines:\n",
        "    pred_headline,target_headline,mask = raw_sample_pred(headline, model)\n",
        "    loss = loss_fn(pred_headline, target_headline, mask) # Obtain the loss\n",
        "    \n",
        "    print(\"----------------------------------------\")\n",
        "    print(\"Headline:\", headline)\n",
        "    print(\"Loss of the headline:\", loss)\n",
        "validate_to_array(raw_sample_pred,zip(headlines,[model]*2),'raw_sample_pred',root_folder,multi=True)\n",
        "# Important check: one headline should be more likely (and have lower loss)\n",
        "# Than the other headline. You should know which headline should have lower loss."
      ],
      "execution_count": 100,
      "outputs": [
        {
          "output_type": "stream",
          "text": [
            "----------------------------------------\n",
            "Headline: apple to release new iphone in july\n",
            "Loss of the headline: tensor(3.4249, grad_fn=<DivBackward0>)\n",
            "----------------------------------------\n",
            "Headline: apple and samsung resolve all lawsuits\n",
            "Loss of the headline: tensor(5.3695, grad_fn=<DivBackward0>)\n"
          ],
          "name": "stdout"
        }
      ]
    },
    {
      "cell_type": "markdown",
      "metadata": {
        "id": "kpn8XlLXyUKn"
      },
      "source": [
        "## (3) Generation of headlines\n",
        "\n",
        "We can use our language model to generate text according to the distribution of our training data.\n",
        "The way generation works is the following:\n",
        "\n",
        "We seed the model with a beginning of sequence, and obtain the distribution for the next word.\n",
        "We select the most likely word (argmax) and add it to our sequence of words.\n",
        "Now our sequence is one word longer, and we can feed it in again as an input, for the network to produce the next sentence.\n",
        "We do this a fixed number of times (up to 20 words), and obtain automatically generated headlines!\n"
      ]
    },
    {
      "cell_type": "markdown",
      "metadata": {
        "id": "hycdvFs6yUKo"
      },
      "source": [
        "We have provided a few headline starters that should produce interesting generated headlines.\n",
        "\n",
        "**TODO:** Get creative and find at least 2 more headline_starters that produce interesting headlines."
      ]
    },
    {
      "cell_type": "code",
      "metadata": {
        "id": "GCYvwLw1yUKp"
      },
      "source": [
        "def generate_sentence(headline_starter, model):\n",
        "    # Tokenize and numerize the headline. Put the numerized headline\n",
        "    # beginning in `current_build`\n",
        "    tokenized = tokenizer.word_tokenizer(headline_starter.lower())\n",
        "    current_build = [startI] + numerize_sequence(tokenized)\n",
        "\n",
        "    while len(current_build) < input_length:\n",
        "        # Pad the current_build into a input_length vector.\n",
        "        # We do this so that it can be processed by our LanguageModel class\n",
        "        current_padded, _m = pad_sequence(current_build, padI, input_length)\n",
        "\n",
        "        # Obtain the logits for the current padded sequence\n",
        "        # This involves obtaining the output_logits from our model,\n",
        "        # and not the loss like we have done so far\n",
        "        input_sequence = th.LongTensor(current_padded)\n",
        "        input_sequence = th.reshape(input_sequence, (1, -1))\n",
        "        logits = model.forward(input_sequence)\n",
        "        logits_np = logits.detach().cpu().numpy()\n",
        "\n",
        "        # Obtain the row of logits that interest us, the logits for the last non-pad\n",
        "        # inputs\n",
        "        last_logits = logits_np[0, len(current_build), :]\n",
        "\n",
        "        # Find the highest scoring words in the last_logits\n",
        "        # array, or sample from the softmax.\n",
        "        # The np.argmax function may be useful for first option,\n",
        "        # sp.special.softmax and np.random.choice may be useful for second option.\n",
        "        # Append this word to our current build\n",
        "        current_build.append(np.argmax(last_logits))\n",
        "\n",
        "    # Go from the current_build of word_indices\n",
        "    # To the headline (string) produced. This should involve\n",
        "    # the vocabulary, and a string merger.\n",
        "    produced_sentence = numerized2text(current_build)\n",
        "    return produced_sentence"
      ],
      "execution_count": 101,
      "outputs": []
    },
    {
      "cell_type": "code",
      "metadata": {
        "colab": {
          "base_uri": "https://localhost:8080/"
        },
        "id": "xVKeMmSAyUKq",
        "scrolled": true,
        "outputId": "196a8302-ad3e-4121-9734-6b3a50bb159c"
      },
      "source": [
        "model.eval()\n",
        "# Here are some headline starters.\n",
        "# They're all about tech companies, because\n",
        "# That is what is in our dataset\n",
        "headline_starters = [\"apple has released\", \"google has released\", \"amazon\", \"tesla to\"]\n",
        "for headline_starter in headline_starters:\n",
        "    print(\"===================\")\n",
        "    print(\"Generating headline starting with: \"+headline_starter)\n",
        "\n",
        "    produced_sentence = generate_sentence(headline_starter, model)\n",
        "    print(produced_sentence)\n",
        "validate_to_array(generate_sentence,zip(headline_starters,[model]*len(headline_starters)),\"generate_sentence\",root_folder,multi=True)"
      ],
      "execution_count": 102,
      "outputs": [
        {
          "output_type": "stream",
          "text": [
            "===================\n",
            "Generating headline starting with: apple has released\n",
            "<START> apple has released a in , UNK on , , , , , , , , , , ,\n",
            "===================\n",
            "Generating headline starting with: google has released\n",
            "<START> google has released in with of in , , , , , , , , , , , ,\n",
            "===================\n",
            "Generating headline starting with: amazon\n",
            "<START> amazon UNK in , , , , , , , , , , , , , , , ,\n",
            "===================\n",
            "Generating headline starting with: tesla to\n",
            "<START> tesla to $ billion in , , , , , , , , , , , , , ,\n"
          ],
          "name": "stdout"
        }
      ]
    },
    {
      "cell_type": "markdown",
      "metadata": {
        "id": "JQ6ni5GZyUKr"
      },
      "source": [
        "## All done\n",
        "\n",
        "You are done with the first part of the HW.\n",
        "\n",
        "Next notebook deals with Summarization of text!\n"
      ]
    },
    {
      "cell_type": "markdown",
      "metadata": {
        "heading_collapsed": true,
        "id": "QoPgKURxyUKs"
      },
      "source": [
        "# Preprocessing (read only)\n"
      ]
    },
    {
      "cell_type": "markdown",
      "metadata": {
        "hidden": true,
        "id": "FfOq00MZyUKt"
      },
      "source": [
        "**You can skip this section, however you may find these functions useful in later sections of this notebook**\n",
        "\n",
        "We have provided this code so you see how the dataset was generated. You will have to come back some of these functions later in the assignment, so feel free to read through, to get familiar."
      ]
    },
    {
      "cell_type": "code",
      "metadata": {
        "hidden": true,
        "id": "uS8FUmo9yUKt",
        "colab": {
          "base_uri": "https://localhost:8080/",
          "height": 217
        },
        "outputId": "85936840-5d01-4749-aa0d-07f6af6dc56c"
      },
      "source": [
        "# You do not need to run this\n",
        "# This is to show you how the dataset was created\n",
        "# You should read to understand, so you can preprocess text\n",
        "# In the same way, in the evaluation section\n",
        "\n",
        "for a in dataset:\n",
        "    a['tokenized'] = tokenizer.word_tokenizer(a['title'].lower())"
      ],
      "execution_count": 16,
      "outputs": [
        {
          "output_type": "error",
          "ename": "NameError",
          "evalue": "ignored",
          "traceback": [
            "\u001b[0;31m---------------------------------------------------------------------------\u001b[0m",
            "\u001b[0;31mNameError\u001b[0m                                 Traceback (most recent call last)",
            "\u001b[0;32m<ipython-input-16-6500b8b753b6>\u001b[0m in \u001b[0;36m<module>\u001b[0;34m()\u001b[0m\n\u001b[1;32m      4\u001b[0m \u001b[0;31m# In the same way, in the evaluation section\u001b[0m\u001b[0;34m\u001b[0m\u001b[0;34m\u001b[0m\u001b[0;34m\u001b[0m\u001b[0m\n\u001b[1;32m      5\u001b[0m \u001b[0;34m\u001b[0m\u001b[0m\n\u001b[0;32m----> 6\u001b[0;31m \u001b[0;32mfor\u001b[0m \u001b[0ma\u001b[0m \u001b[0;32min\u001b[0m \u001b[0mdataset\u001b[0m\u001b[0;34m:\u001b[0m\u001b[0;34m\u001b[0m\u001b[0;34m\u001b[0m\u001b[0m\n\u001b[0m\u001b[1;32m      7\u001b[0m     \u001b[0ma\u001b[0m\u001b[0;34m[\u001b[0m\u001b[0;34m'tokenized'\u001b[0m\u001b[0;34m]\u001b[0m \u001b[0;34m=\u001b[0m \u001b[0mtokenizer\u001b[0m\u001b[0;34m.\u001b[0m\u001b[0mword_tokenizer\u001b[0m\u001b[0;34m(\u001b[0m\u001b[0ma\u001b[0m\u001b[0;34m[\u001b[0m\u001b[0;34m'title'\u001b[0m\u001b[0;34m]\u001b[0m\u001b[0;34m.\u001b[0m\u001b[0mlower\u001b[0m\u001b[0;34m(\u001b[0m\u001b[0;34m)\u001b[0m\u001b[0;34m)\u001b[0m\u001b[0;34m\u001b[0m\u001b[0;34m\u001b[0m\u001b[0m\n",
            "\u001b[0;31mNameError\u001b[0m: name 'dataset' is not defined"
          ]
        }
      ]
    },
    {
      "cell_type": "code",
      "metadata": {
        "hidden": true,
        "id": "g_9okOHoyUKu",
        "scrolled": true
      },
      "source": [
        "# You do not need to run this\n",
        "# This is to show you how the dataset was created\n",
        "# You should read to understand, so you can preprocess text\n",
        "# In the same way, in the evaluation section\n",
        "\n",
        "word_counts = Counter()\n",
        "for a in dataset:\n",
        "    word_counts.update(a['tokenized'])\n",
        "\n",
        "print(word_counts.most_common(30))"
      ],
      "execution_count": null,
      "outputs": []
    },
    {
      "cell_type": "code",
      "metadata": {
        "hidden": true,
        "id": "OhNeO1LdyUKv"
      },
      "source": [
        "# You do not need to run this\n",
        "# This is to show you how the dataset was created\n",
        "# You should read to understand, so you can preprocess text\n",
        "# In the same way, in the evaluation section\n",
        "\n",
        "# Creating the vocab\n",
        "vocab_size = 20000\n",
        "special_words = [\"<START>\", \"UNK\", \"PAD\"]\n",
        "vocabulary = special_words + [w for w, c in word_counts.most_common(vocab_size-len(special_words))]\n",
        "w2i = {w: i for i, w in enumerate(vocabulary)}\n",
        "\n",
        "# Numerizing and padding\n",
        "input_length = 20\n",
        "unkI, padI, startI = w2i['UNK'], w2i['PAD'], w2i['<START>']\n",
        "\n",
        "for a in dataset:\n",
        "    a['numerized'] = numerize_sequence(a['tokenized']) # Change words to IDs\n",
        "    a['numerized'], a['mask'] = pad_sequence(a['numerized'], padI, input_length) # Append appropriate PAD tokens\n",
        "    \n",
        "# Compute fraction of words that are UNK:\n",
        "word_counters = Counter([w for a in dataset for w in a['input'] if w != padI])\n",
        "\n",
        "print(\"Fraction of UNK words:\", float(word_counters[unkI]) / sum(word_counters.values()))"
      ],
      "execution_count": null,
      "outputs": []
    },
    {
      "cell_type": "code",
      "metadata": {
        "hidden": true,
        "id": "rpeDdDrUyUKw"
      },
      "source": [
        "# You do not need to run this\n",
        "# This is to show you how the dataset was created\n",
        "# You should read to understand, so you can preprocess text\n",
        "# In the same way, in the evaluation section\n",
        "\n",
        "d_released_processed   = [d for d in dataset if d['cut'] != 'testing']\n",
        "d_unreleased_processed = [d for d in dataset if d['cut'] == 'testing']\n",
        "\n",
        "with open(\"dataset/headline_generation_dataset_processed.json\", \"w\") as f:\n",
        "    json.dump(d_released_processed, f)\n",
        "\n",
        "# This file is purposefully left out of the assignment, we will use it to evaluate your model.\n",
        "with open(\"dataset/headline_generation_dataset_unreleased_processed.json\", \"w\") as f:\n",
        "    json.dump(d_unreleased_processed, f)\n",
        "    \n",
        "with open(\"dataset/headline_generation_vocabulary.txt\", \"w\") as f:\n",
        "    f.write(\"\\n\".join(vocabulary).encode('utf8'))"
      ],
      "execution_count": null,
      "outputs": []
    },
    {
      "cell_type": "code",
      "metadata": {
        "id": "lS--8I0KlDvO"
      },
      "source": [
        ""
      ],
      "execution_count": null,
      "outputs": []
    }
  ]
}